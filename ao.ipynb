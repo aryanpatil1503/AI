{
  "cells": [
    {
      "cell_type": "markdown",
      "metadata": {
        "id": "view-in-github",
        "colab_type": "text"
      },
      "source": [
        "<a href=\"https://colab.research.google.com/github/aryanpatil1503/AI/blob/main/ao.ipynb\" target=\"_parent\"><img src=\"https://colab.research.google.com/assets/colab-badge.svg\" alt=\"Open In Colab\"/></a>"
      ]
    },
    {
      "cell_type": "markdown",
      "metadata": {
        "id": "7irm-4sk8Ffa"
      },
      "source": [
        "##Git and Drive Integration"
      ]
    },
    {
      "cell_type": "code",
      "execution_count": 11,
      "metadata": {
        "id": "FJny0Nxk8IuJ"
      },
      "outputs": [],
      "source": [
        "from __future__ import print_function\n",
        "import argparse\n",
        "import torch\n",
        "import torch.nn as nn\n",
        "import torch.nn.functional as F\n",
        "import torch.optim as optim\n",
        "from torchvision import datasets, transforms\n",
        "from torch.optim.lr_scheduler import StepLR\n",
        "import time\n",
        "import matplotlib.pyplot as plt\n",
        "import numpy as np"
      ]
    },
    {
      "cell_type": "markdown",
      "metadata": {
        "id": "WERRgUiQLkgH"
      },
      "source": [
        "### Mount google drive"
      ]
    },
    {
      "cell_type": "code",
      "execution_count": 2,
      "metadata": {
        "id": "1ReJf67OJUzd",
        "colab": {
          "base_uri": "https://localhost:8080/"
        },
        "outputId": "f99dcfdb-a050-4934-c0d1-1160bb8d40b4"
      },
      "outputs": [
        {
          "output_type": "stream",
          "name": "stdout",
          "text": [
            "Mounted at /content/gdrive\n"
          ]
        }
      ],
      "source": [
        "# Mount google drive to use a persistent directory structure\n",
        "from google.colab import drive\n",
        "drive.mount('/content/gdrive')"
      ]
    },
    {
      "cell_type": "markdown",
      "metadata": {
        "id": "dOUJ-qFnLqw7"
      },
      "source": [
        "### Clone the assignment repository"
      ]
    },
    {
      "cell_type": "code",
      "execution_count": 3,
      "metadata": {
        "id": "PZpt4K8HJ86p",
        "colab": {
          "base_uri": "https://localhost:8080/"
        },
        "outputId": "c5715d83-81bb-45bd-9928-7dc963348586"
      },
      "outputs": [
        {
          "output_type": "stream",
          "name": "stdout",
          "text": [
            "mkdir: cannot create directory ‘/content/gdrive/MyDrive/ece5545’: File exists\n",
            "/content/gdrive/MyDrive/ece5545\n"
          ]
        }
      ],
      "source": [
        "# Create a directory for the course\n",
        "%mkdir /content/gdrive/MyDrive/ece5545\n",
        "%cd /content/gdrive/MyDrive/ece5545\n",
        "\n",
        "# Create files to hold your Github token and username.\n",
        "!echo 'YOUR_TOKEN' > /content/gdrive/MyDrive/ece5545/token.txt\n",
        "!echo 'YOUR_HANDLE' > /content/gdrive/MyDrive/ece5545/git_username.txt\n",
        "\n",
        "# TODO: Navigate to the created files and replace the contents with your token and username.\n",
        "# Do NOT place your token inside of the notebook. This way there is no risk that you will push it to your repo.\n",
        "# Never share your token with anyone, it is basically your github password!"
      ]
    },
    {
      "cell_type": "code",
      "execution_count": 4,
      "metadata": {
        "id": "GJM4zE72UdsC",
        "colab": {
          "base_uri": "https://localhost:8080/"
        },
        "outputId": "88278063-f413-4dee-a088-79794cd4ad88"
      },
      "outputs": [
        {
          "output_type": "stream",
          "name": "stdout",
          "text": [
            "Cloning into 'a0'...\n",
            "remote: Enumerating objects: 40, done.\u001b[K\n",
            "remote: Counting objects: 100% (11/11), done.\u001b[K\n",
            "remote: Compressing objects: 100% (8/8), done.\u001b[K\n",
            "remote: Total 40 (delta 3), reused 3 (delta 3), pack-reused 29 (from 2)\u001b[K\n",
            "Receiving objects: 100% (40/40), 15.60 KiB | 1.20 MiB/s, done.\n",
            "Resolving deltas: 100% (6/6), done.\n"
          ]
        }
      ],
      "source": [
        "with open('/content/gdrive/MyDrive/ece5545/token.txt') as f:\n",
        "    token = f.readline().strip()\n",
        "# Use another file to store your github username\n",
        "with open('/content/gdrive/MyDrive/ece5545/git_username.txt') as f:\n",
        "    handle = f.readline().strip()\n",
        "\n",
        "YOUR_TOKEN = token\n",
        "YOUR_HANDLE = handle\n",
        "\n",
        "!git clone https://{YOUR_TOKEN}@github.com/ML-HW-SYS/a0-{YOUR_HANDLE}.git a0"
      ]
    },
    {
      "cell_type": "markdown",
      "metadata": {
        "id": "eCOS6gDnLvzr"
      },
      "source": [
        "### Add `src` directory to the Python import path"
      ]
    },
    {
      "cell_type": "code",
      "execution_count": 5,
      "metadata": {
        "id": "tZAlavR7KzQ8"
      },
      "outputs": [],
      "source": [
        "# import functions from the src directory in repo\n",
        "import sys\n",
        "sys.path.insert(0, '/content/gdrive/MyDrive/ece5545/a0/src')"
      ]
    },
    {
      "cell_type": "markdown",
      "metadata": {
        "id": "2xC-uqgYL3n9"
      },
      "source": [
        "### Import functions from `src/train_utils.py`"
      ]
    },
    {
      "cell_type": "code",
      "execution_count": 6,
      "metadata": {
        "id": "4We44OWFLF-1"
      },
      "outputs": [],
      "source": [
        "import train_utils\n",
        "from model import *"
      ]
    },
    {
      "cell_type": "markdown",
      "metadata": {
        "id": "hnu4vIr8QJKR"
      },
      "source": [
        "### Make changes to `src` files and push to repo"
      ]
    },
    {
      "cell_type": "code",
      "execution_count": 7,
      "metadata": {
        "id": "CtH2Xy7TQRq7"
      },
      "outputs": [],
      "source": [
        "# You will likely need to set your git user identification settings\n",
        "!git config --global user.email \"ap2365@cornell.edu\"  # update with your email\n",
        "!git config --global user.name \"Aryan Patil\"   # update with your name"
      ]
    },
    {
      "cell_type": "code",
      "execution_count": 8,
      "metadata": {
        "id": "8IEDZpwTdF_z",
        "colab": {
          "base_uri": "https://localhost:8080/"
        },
        "outputId": "bfc56620-4fe3-4c87-fefd-1671d37310fa"
      },
      "outputs": [
        {
          "output_type": "stream",
          "name": "stdout",
          "text": [
            "/content/gdrive/MyDrive/ece5545/a0\n",
            "\u001b[1m======================================= test session starts ========================================\u001b[0m\n",
            "platform linux -- Python 3.11.11, pytest-8.3.4, pluggy-1.5.0\n",
            "rootdir: /content/gdrive/MyDrive/ece5545/a0\n",
            "plugins: langsmith-0.3.2, anyio-3.7.1, typeguard-4.4.1\n",
            "collected 1 item                                                                                   \u001b[0m\n",
            "\n",
            "tests/test_model.py \u001b[32m.\u001b[0m\u001b[32m                                                                        [100%]\u001b[0m\n",
            "\n",
            "\u001b[32m======================================== \u001b[32m\u001b[1m1 passed\u001b[0m\u001b[32m in 2.38s\u001b[0m\u001b[32m =========================================\u001b[0m\n"
          ]
        }
      ],
      "source": [
        "# To run the same tests that are run on Github Classroom\n",
        "%cd /content/gdrive/MyDrive/ece5545/a0\n",
        "!python3 -m pytest"
      ]
    },
    {
      "cell_type": "code",
      "execution_count": 9,
      "metadata": {
        "id": "BfekNg28QJXK",
        "colab": {
          "base_uri": "https://localhost:8080/"
        },
        "outputId": "c71fd253-d6bb-4833-f3a9-eb43bfff7ca0"
      },
      "outputs": [
        {
          "output_type": "stream",
          "name": "stdout",
          "text": [
            "/content/gdrive/MyDrive/ece5545/a0/src\n",
            "On branch main\n",
            "Your branch is up to date with 'origin/main'.\n",
            "\n",
            "Untracked files:\n",
            "  (use \"git add <file>...\" to include in what will be committed)\n",
            "\t\u001b[31m__pycache__/\u001b[m\n",
            "\t\u001b[31m../tests/__pycache__/\u001b[m\n",
            "\n",
            "nothing added to commit but untracked files present (use \"git add\" to track)\n",
            "Everything up-to-date\n"
          ]
        }
      ],
      "source": [
        "%cd /content/gdrive/MyDrive/ece5545/a0/src\n",
        "# Navigate to a0/src/model.py and fix the bug (denoted by TODO)\n",
        "# in the file then commit the changes below\n",
        "!git commit -am \"fixed bug in model.py\"\n",
        "!git push"
      ]
    },
    {
      "cell_type": "code",
      "source": [
        "# 1Navigate to your repo\n",
        "%cd /content/gdrive/MyDrive/ece5545/a0/src\n",
        "\n",
        "# Pull the latest changes first to avoid conflicts\n",
        "!git pull origin main --rebase\n",
        "\n",
        "# Stage only modified files\n",
        "!git add model.py\n",
        "\n",
        "# 4Commit the changes\n",
        "!git commit -m \"Fixed bug in model.py\"\n",
        "\n",
        "# 5Push the changes\n",
        "!git push origin main\n"
      ],
      "metadata": {
        "colab": {
          "base_uri": "https://localhost:8080/"
        },
        "id": "PgzkYpjPXffP",
        "outputId": "94698117-c8e9-4da3-b468-10d579f040ae"
      },
      "execution_count": 17,
      "outputs": [
        {
          "output_type": "stream",
          "name": "stdout",
          "text": [
            "/content/gdrive/MyDrive/ece5545/a0/src\n",
            "From https://github.com/ML-HW-SYS/a0-aryanpatil1503\n",
            " * branch            main       -> FETCH_HEAD\n",
            "Already up to date.\n",
            "On branch main\n",
            "Your branch is up to date with 'origin/main'.\n",
            "\n",
            "Untracked files:\n",
            "  (use \"git add <file>...\" to include in what will be committed)\n",
            "\t\u001b[31m__pycache__/\u001b[m\n",
            "\t\u001b[31m../tests/__pycache__/\u001b[m\n",
            "\n",
            "nothing added to commit but untracked files present (use \"git add\" to track)\n",
            "Everything up-to-date\n"
          ]
        }
      ]
    },
    {
      "cell_type": "markdown",
      "metadata": {
        "id": "S4U_ErcR8jm4"
      },
      "source": [
        "## Training Configuration"
      ]
    },
    {
      "cell_type": "code",
      "execution_count": null,
      "metadata": {
        "id": "48UjE1Ub8miw"
      },
      "outputs": [],
      "source": [
        "batch_size = 128\n",
        "epochs = 5\n",
        "lr = 1.0\n",
        "gamma = 0.7\n",
        "no_cuda = False\n",
        "seed = 42\n",
        "log_interval = 50\n",
        "save_model = False\n",
        "dry_run = False\n",
        "\n",
        "# Derived parameters\n",
        "use_cuda = not no_cuda and torch.cuda.is_available()\n",
        "torch.manual_seed(seed)\n",
        "device = torch.device(\"cuda\" if use_cuda else \"cpu\")\n",
        "\n",
        "train_kwargs = {'batch_size': batch_size}\n",
        "test_kwargs = {'batch_size': batch_size}\n",
        "if use_cuda:\n",
        "    cuda_kwargs = {'num_workers': 1,\n",
        "                   'pin_memory': True,\n",
        "                   'shuffle': True}\n",
        "    train_kwargs.update(cuda_kwargs)\n",
        "    test_kwargs.update(cuda_kwargs)"
      ]
    },
    {
      "cell_type": "markdown",
      "metadata": {
        "id": "8Op3rAAv8r6y"
      },
      "source": [
        "## Data Loaders and Optimizer Setup"
      ]
    },
    {
      "cell_type": "code",
      "execution_count": null,
      "metadata": {
        "id": "bwFBxzFA8yy8"
      },
      "outputs": [],
      "source": [
        "transform=transforms.Compose([\n",
        "    transforms.ToTensor(),\n",
        "    transforms.Normalize((0.1307,), (0.3081,))\n",
        "    ])\n",
        "dataset1 = datasets.MNIST('/content/gdrive/MyDrive/ece5545/data', train=True, download=True,\n",
        "                    transform=transform)\n",
        "dataset2 = datasets.MNIST('/content/gdrive/MyDrive/ece5545/data', train=False,\n",
        "                       transform=transform)\n",
        "train_loader = torch.utils.data.DataLoader(dataset1,**train_kwargs)\n",
        "test_loader = torch.utils.data.DataLoader(dataset2, **test_kwargs)\n",
        "\n",
        "model = Net().to(device)\n",
        "optimizer = optim.Adadelta(model.parameters(), lr=lr)\n",
        "\n",
        "scheduler = StepLR(optimizer, step_size=1, gamma=gamma)"
      ]
    },
    {
      "cell_type": "code",
      "source": [
        "batch_size = [32, 64, 128]\n",
        "epochs = 5\n",
        "lr = 1.0\n",
        "gamma = 0.7\n",
        "no_cuda = False\n",
        "seed = 42\n",
        "log_interval = 50\n",
        "save_model = False\n",
        "dry_run = False\n",
        "# Derived parameters\n",
        "use_cuda = not no_cuda and torch.cuda.is_available()\n",
        "torch.manual_seed(seed)\n",
        "device = torch.device(\"cuda\" if use_cuda else \"cpu\")\n",
        "for b in batch_size:\n",
        "  print(\"Batch size: \",b)\n",
        "  train_kwargs = {'batch_size': b}\n",
        "  test_kwargs = {'batch_size': b}\n",
        "  if use_cuda:\n",
        "    cuda_kwargs = {'num_workers': 1,\n",
        "    'pin_memory': True,\n",
        "    'shuffle': True}\n",
        "    train_kwargs.update(cuda_kwargs)\n",
        "    test_kwargs.update(cuda_kwargs)\n",
        "  for epoch in range(1, epochs + 1):\n",
        "    train_utils.train(model, device, train_loader, optimizer, epoch, log_interval, dry_run)\n",
        "    train_utils.test(model, device, test_loader)\n",
        "    scheduler.step()\n",
        "  if save_model:\n",
        "    torch.save(model.state_dict(), \"mnist_cnn.pt\")\n"
      ],
      "metadata": {
        "id": "diwJYwpeWi7W"
      },
      "execution_count": null,
      "outputs": []
    },
    {
      "cell_type": "markdown",
      "metadata": {
        "id": "y10wFNoo81-U"
      },
      "source": [
        "## Training Loop"
      ]
    },
    {
      "cell_type": "code",
      "execution_count": null,
      "metadata": {
        "id": "NGnAaTm64X_l"
      },
      "outputs": [],
      "source": [
        "import importlib\n",
        "importlib.reload(train_utils)\n",
        "# we use importlib to make sure that we are loading\n",
        "# the latest version of train_utils after any changes\n",
        "# that you may have done\n",
        "\n",
        "for epoch in range(1, epochs + 1):\n",
        "    train_utils.train(model, device, train_loader, optimizer, epoch, log_interval, dry_run)\n",
        "    train_utils.test(model, device, test_loader)\n",
        "    scheduler.step()\n",
        "\n",
        "if save_model:\n",
        "    torch.save(model.state_dict(), \"mnist_cnn.pt\")"
      ]
    },
    {
      "cell_type": "code",
      "source": [
        "gpu_batchsize_32 = [19.74, 21.79, 20.42, 19.25, 20.79]\n",
        "cpu_batchsize_32 = [169.93, 175.49, 175.58, 175.7, 181.77]\n",
        "gpu_batchsize_64 = [15.96, 15.58, 16.88, 16.15, 16.83]\n",
        "cpu_batchsize_64 = [175.04, 177.16,175.9, 176.5, 176.22]\n",
        "gpu_batchsize_128 = [14.12, 13.52, 13.39, 13.47, 13.23]\n",
        "cpu_batchsize_128 = [176.81, 175.62, 177.53, 175.05, 177.81]\n",
        "mean_gpu = np.mean(gpu_batchsize_128)\n",
        "std_dev_gpu = np.std(gpu_batchsize_128)\n",
        "print(\"Mean GPU Time: \", mean_gpu)\n",
        "print(\"Standard Deviation GPU Time: \", std_dev_gpu)\n",
        "mean_cpu = np.mean(cpu_batchsize_128)\n",
        "std_dev_cpu = np.std(cpu_batchsize_128)\n",
        "print(\"Mean CPU Time: \", mean_cpu)\n",
        "print(\"Standard Deviation CPU Time: \", std_dev_cpu)\n",
        "gpu_batchsize_256 = [12.73, 13.03, 13.47, 13.78, 13.75]\n",
        "cpu_batchsize_256 = [197.45, 206.12, 210.27, 203.97, 215.37]"
      ],
      "metadata": {
        "colab": {
          "base_uri": "https://localhost:8080/"
        },
        "id": "IM0eWMKqWJsP",
        "outputId": "a66f3be7-dd4b-4f88-aa4e-a7f766e615c1"
      },
      "execution_count": 12,
      "outputs": [
        {
          "output_type": "stream",
          "name": "stdout",
          "text": [
            "Mean GPU Time:  13.546000000000001\n",
            "Standard Deviation GPU Time:  0.3033545780106173\n",
            "Mean CPU Time:  176.564\n",
            "Standard Deviation CPU Time:  1.0704690560684103\n"
          ]
        }
      ]
    },
    {
      "cell_type": "code",
      "source": [
        "batchsize_32 = plt.scatter(gpu_batchsize_32, cpu_batchsize_32)\n",
        "batchsize_64 = plt.scatter(gpu_batchsize_64, cpu_batchsize_64)\n",
        "batchsize_128 = plt.scatter(gpu_batchsize_128, cpu_batchsize_128)\n",
        "batchsize_256 = plt.scatter(gpu_batchsize_256, cpu_batchsize_256)\n",
        "plt.xlabel('GPU Time per epoch')\n",
        "plt.ylabel('CPU Time per epoch')\n",
        "plt.legend((batchsize_32, batchsize_64, batchsize_128, batchsize_256),\n",
        "('Batch Size 32','Batch Size 64','Batch Size 128', 'Batch Size 256'))\n",
        "plt.show()"
      ],
      "metadata": {
        "colab": {
          "base_uri": "https://localhost:8080/",
          "height": 449
        },
        "id": "tKgdZfB_WYtI",
        "outputId": "d4239af3-0510-40ed-c497-e401fb22db8d"
      },
      "execution_count": 14,
      "outputs": [
        {
          "output_type": "display_data",
          "data": {
            "text/plain": [
              "<Figure size 640x480 with 1 Axes>"
            ],
            "image/png": "[encoded data removed]"
          },
          "metadata": {}
        }
      ]
    },
    {
      "cell_type": "code",
      "execution_count": 10,
      "metadata": {
        "id": "E-AAD7e86Az_",
        "colab": {
          "base_uri": "https://localhost:8080/"
        },
        "outputId": "b19136dc-6a9f-41fe-e213-0663fc0b5c0f"
      },
      "outputs": [
        {
          "output_type": "stream",
          "name": "stdout",
          "text": [
            "Wed Feb  5 04:22:46 2025       \n",
            "+-----------------------------------------------------------------------------------------+\n",
            "| NVIDIA-SMI 550.54.15              Driver Version: 550.54.15      CUDA Version: 12.4     |\n",
            "|-----------------------------------------+------------------------+----------------------+\n",
            "| GPU  Name                 Persistence-M | Bus-Id          Disp.A | Volatile Uncorr. ECC |\n",
            "| Fan  Temp   Perf          Pwr:Usage/Cap |           Memory-Usage | GPU-Util  Compute M. |\n",
            "|                                         |                        |               MIG M. |\n",
            "|=========================================+========================+======================|\n",
            "|   0  Tesla T4                       Off |   00000000:00:04.0 Off |                    0 |\n",
            "| N/A   45C    P8              9W /   70W |       0MiB /  15360MiB |      0%      Default |\n",
            "|                                         |                        |                  N/A |\n",
            "+-----------------------------------------+------------------------+----------------------+\n",
            "                                                                                         \n",
            "+-----------------------------------------------------------------------------------------+\n",
            "| Processes:                                                                              |\n",
            "|  GPU   GI   CI        PID   Type   Process name                              GPU Memory |\n",
            "|        ID   ID                                                               Usage      |\n",
            "|=========================================================================================|\n",
            "|  No running processes found                                                             |\n",
            "+-----------------------------------------------------------------------------------------+\n"
          ]
        }
      ],
      "source": [
        "# Diagnostic information about the used GPU device\n",
        "!nvidia-smi"
      ]
    },
    {
      "cell_type": "code",
      "execution_count": null,
      "metadata": {
        "id": "sJFiI9Bs72lL"
      },
      "outputs": [],
      "source": []
    }
  ],
  "metadata": {
    "accelerator": "GPU",
    "colab": {
      "provenance": [],
      "include_colab_link": true
    },
    "kernelspec": {
      "display_name": "Python 3",
      "name": "python3"
    },
    "language_info": {
      "name": "python"
    }
  },
  "nbformat": 4,
  "nbformat_minor": 0
}